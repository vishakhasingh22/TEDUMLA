{
  "nbformat": 4,
  "nbformat_minor": 0,
  "metadata": {
    "colab": {
      "provenance": []
    },
    "kernelspec": {
      "name": "python3",
      "display_name": "Python 3"
    },
    "language_info": {
      "name": "python"
    },
    "widgets": {
      "application/vnd.jupyter.widget-state+json": {
        "bc85ebbd75134733b256424fc86ae483": {
          "model_module": "@jupyter-widgets/controls",
          "model_name": "LabelModel",
          "model_module_version": "1.5.0",
          "state": {
            "_dom_classes": [],
            "_model_module": "@jupyter-widgets/controls",
            "_model_module_version": "1.5.0",
            "_model_name": "LabelModel",
            "_view_count": null,
            "_view_module": "@jupyter-widgets/controls",
            "_view_module_version": "1.5.0",
            "_view_name": "LabelView",
            "description": "",
            "description_tooltip": null,
            "layout": "IPY_MODEL_580d6ede86a243789625aebb87219b88",
            "placeholder": "​",
            "style": "IPY_MODEL_cc685a35f7fc42da99b10e7c3884dcb3",
            "value": "Input Text:"
          }
        },
        "580d6ede86a243789625aebb87219b88": {
          "model_module": "@jupyter-widgets/base",
          "model_name": "LayoutModel",
          "model_module_version": "1.2.0",
          "state": {
            "_model_module": "@jupyter-widgets/base",
            "_model_module_version": "1.2.0",
            "_model_name": "LayoutModel",
            "_view_count": null,
            "_view_module": "@jupyter-widgets/base",
            "_view_module_version": "1.2.0",
            "_view_name": "LayoutView",
            "align_content": null,
            "align_items": null,
            "align_self": null,
            "border": null,
            "bottom": null,
            "display": null,
            "flex": null,
            "flex_flow": null,
            "grid_area": null,
            "grid_auto_columns": null,
            "grid_auto_flow": null,
            "grid_auto_rows": null,
            "grid_column": null,
            "grid_gap": null,
            "grid_row": null,
            "grid_template_areas": null,
            "grid_template_columns": null,
            "grid_template_rows": null,
            "height": null,
            "justify_content": null,
            "justify_items": null,
            "left": null,
            "margin": null,
            "max_height": null,
            "max_width": null,
            "min_height": null,
            "min_width": null,
            "object_fit": null,
            "object_position": null,
            "order": null,
            "overflow": null,
            "overflow_x": null,
            "overflow_y": null,
            "padding": null,
            "right": null,
            "top": null,
            "visibility": null,
            "width": null
          }
        },
        "cc685a35f7fc42da99b10e7c3884dcb3": {
          "model_module": "@jupyter-widgets/controls",
          "model_name": "DescriptionStyleModel",
          "model_module_version": "1.5.0",
          "state": {
            "_model_module": "@jupyter-widgets/controls",
            "_model_module_version": "1.5.0",
            "_model_name": "DescriptionStyleModel",
            "_view_count": null,
            "_view_module": "@jupyter-widgets/base",
            "_view_module_version": "1.2.0",
            "_view_name": "StyleView",
            "description_width": ""
          }
        },
        "ac1edea60c844414b5c726952cfd1c68": {
          "model_module": "@jupyter-widgets/controls",
          "model_name": "TextModel",
          "model_module_version": "1.5.0",
          "state": {
            "_dom_classes": [],
            "_model_module": "@jupyter-widgets/controls",
            "_model_module_version": "1.5.0",
            "_model_name": "TextModel",
            "_view_count": null,
            "_view_module": "@jupyter-widgets/controls",
            "_view_module_version": "1.5.0",
            "_view_name": "TextView",
            "continuous_update": true,
            "description": "",
            "description_tooltip": null,
            "disabled": false,
            "layout": "IPY_MODEL_f5ae45a2d3974be3b4de4a5065f7961e",
            "placeholder": "​",
            "style": "IPY_MODEL_a0b85cd0ab734afab77e8e06a26dcad2",
            "value": "i am glad we met"
          }
        },
        "f5ae45a2d3974be3b4de4a5065f7961e": {
          "model_module": "@jupyter-widgets/base",
          "model_name": "LayoutModel",
          "model_module_version": "1.2.0",
          "state": {
            "_model_module": "@jupyter-widgets/base",
            "_model_module_version": "1.2.0",
            "_model_name": "LayoutModel",
            "_view_count": null,
            "_view_module": "@jupyter-widgets/base",
            "_view_module_version": "1.2.0",
            "_view_name": "LayoutView",
            "align_content": null,
            "align_items": null,
            "align_self": null,
            "border": null,
            "bottom": null,
            "display": null,
            "flex": null,
            "flex_flow": null,
            "grid_area": null,
            "grid_auto_columns": null,
            "grid_auto_flow": null,
            "grid_auto_rows": null,
            "grid_column": null,
            "grid_gap": null,
            "grid_row": null,
            "grid_template_areas": null,
            "grid_template_columns": null,
            "grid_template_rows": null,
            "height": null,
            "justify_content": null,
            "justify_items": null,
            "left": null,
            "margin": null,
            "max_height": null,
            "max_width": null,
            "min_height": null,
            "min_width": null,
            "object_fit": null,
            "object_position": null,
            "order": null,
            "overflow": null,
            "overflow_x": null,
            "overflow_y": null,
            "padding": null,
            "right": null,
            "top": null,
            "visibility": null,
            "width": null
          }
        },
        "a0b85cd0ab734afab77e8e06a26dcad2": {
          "model_module": "@jupyter-widgets/controls",
          "model_name": "DescriptionStyleModel",
          "model_module_version": "1.5.0",
          "state": {
            "_model_module": "@jupyter-widgets/controls",
            "_model_module_version": "1.5.0",
            "_model_name": "DescriptionStyleModel",
            "_view_count": null,
            "_view_module": "@jupyter-widgets/base",
            "_view_module_version": "1.2.0",
            "_view_name": "StyleView",
            "description_width": ""
          }
        },
        "438d6daa1ebd43d3838ff8f1a1386f37": {
          "model_module": "@jupyter-widgets/controls",
          "model_name": "ButtonModel",
          "model_module_version": "1.5.0",
          "state": {
            "_dom_classes": [],
            "_model_module": "@jupyter-widgets/controls",
            "_model_module_version": "1.5.0",
            "_model_name": "ButtonModel",
            "_view_count": null,
            "_view_module": "@jupyter-widgets/controls",
            "_view_module_version": "1.5.0",
            "_view_name": "ButtonView",
            "button_style": "",
            "description": "Predict",
            "disabled": false,
            "icon": "",
            "layout": "IPY_MODEL_1ea24f28f22b48a0a75f21deb0f5658e",
            "style": "IPY_MODEL_f5f8ba37a8bc420b8b445be36dd25340",
            "tooltip": ""
          }
        },
        "1ea24f28f22b48a0a75f21deb0f5658e": {
          "model_module": "@jupyter-widgets/base",
          "model_name": "LayoutModel",
          "model_module_version": "1.2.0",
          "state": {
            "_model_module": "@jupyter-widgets/base",
            "_model_module_version": "1.2.0",
            "_model_name": "LayoutModel",
            "_view_count": null,
            "_view_module": "@jupyter-widgets/base",
            "_view_module_version": "1.2.0",
            "_view_name": "LayoutView",
            "align_content": null,
            "align_items": null,
            "align_self": null,
            "border": null,
            "bottom": null,
            "display": null,
            "flex": null,
            "flex_flow": null,
            "grid_area": null,
            "grid_auto_columns": null,
            "grid_auto_flow": null,
            "grid_auto_rows": null,
            "grid_column": null,
            "grid_gap": null,
            "grid_row": null,
            "grid_template_areas": null,
            "grid_template_columns": null,
            "grid_template_rows": null,
            "height": null,
            "justify_content": null,
            "justify_items": null,
            "left": null,
            "margin": null,
            "max_height": null,
            "max_width": null,
            "min_height": null,
            "min_width": null,
            "object_fit": null,
            "object_position": null,
            "order": null,
            "overflow": null,
            "overflow_x": null,
            "overflow_y": null,
            "padding": null,
            "right": null,
            "top": null,
            "visibility": null,
            "width": null
          }
        },
        "f5f8ba37a8bc420b8b445be36dd25340": {
          "model_module": "@jupyter-widgets/controls",
          "model_name": "ButtonStyleModel",
          "model_module_version": "1.5.0",
          "state": {
            "_model_module": "@jupyter-widgets/controls",
            "_model_module_version": "1.5.0",
            "_model_name": "ButtonStyleModel",
            "_view_count": null,
            "_view_module": "@jupyter-widgets/base",
            "_view_module_version": "1.2.0",
            "_view_name": "StyleView",
            "button_color": null,
            "font_weight": ""
          }
        },
        "87874e8e4c784c42b68f58cefcff737e": {
          "model_module": "@jupyter-widgets/controls",
          "model_name": "LabelModel",
          "model_module_version": "1.5.0",
          "state": {
            "_dom_classes": [],
            "_model_module": "@jupyter-widgets/controls",
            "_model_module_version": "1.5.0",
            "_model_name": "LabelModel",
            "_view_count": null,
            "_view_module": "@jupyter-widgets/controls",
            "_view_module_version": "1.5.0",
            "_view_name": "LabelView",
            "description": "",
            "description_tooltip": null,
            "layout": "IPY_MODEL_5c4f7a8df748467cb994a7a698852606",
            "placeholder": "​",
            "style": "IPY_MODEL_3cf887eb0f8b4a5baf32dd4f35a36d1f",
            "value": ""
          }
        },
        "5c4f7a8df748467cb994a7a698852606": {
          "model_module": "@jupyter-widgets/base",
          "model_name": "LayoutModel",
          "model_module_version": "1.2.0",
          "state": {
            "_model_module": "@jupyter-widgets/base",
            "_model_module_version": "1.2.0",
            "_model_name": "LayoutModel",
            "_view_count": null,
            "_view_module": "@jupyter-widgets/base",
            "_view_module_version": "1.2.0",
            "_view_name": "LayoutView",
            "align_content": null,
            "align_items": null,
            "align_self": null,
            "border": null,
            "bottom": null,
            "display": null,
            "flex": null,
            "flex_flow": null,
            "grid_area": null,
            "grid_auto_columns": null,
            "grid_auto_flow": null,
            "grid_auto_rows": null,
            "grid_column": null,
            "grid_gap": null,
            "grid_row": null,
            "grid_template_areas": null,
            "grid_template_columns": null,
            "grid_template_rows": null,
            "height": null,
            "justify_content": null,
            "justify_items": null,
            "left": null,
            "margin": null,
            "max_height": null,
            "max_width": null,
            "min_height": null,
            "min_width": null,
            "object_fit": null,
            "object_position": null,
            "order": null,
            "overflow": null,
            "overflow_x": null,
            "overflow_y": null,
            "padding": null,
            "right": null,
            "top": null,
            "visibility": null,
            "width": null
          }
        },
        "3cf887eb0f8b4a5baf32dd4f35a36d1f": {
          "model_module": "@jupyter-widgets/controls",
          "model_name": "DescriptionStyleModel",
          "model_module_version": "1.5.0",
          "state": {
            "_model_module": "@jupyter-widgets/controls",
            "_model_module_version": "1.5.0",
            "_model_name": "DescriptionStyleModel",
            "_view_count": null,
            "_view_module": "@jupyter-widgets/base",
            "_view_module_version": "1.2.0",
            "_view_name": "StyleView",
            "description_width": ""
          }
        }
      }
    }
  },
  "cells": [
    {
      "cell_type": "code",
      "source": [
        "!pip install nltk"
      ],
      "metadata": {
        "colab": {
          "base_uri": "https://localhost:8080/"
        },
        "id": "u_WUZetontfp",
        "outputId": "782f563d-b9cd-494c-c818-ccc9eaa8d6e5"
      },
      "execution_count": null,
      "outputs": [
        {
          "output_type": "stream",
          "name": "stdout",
          "text": [
            "Looking in indexes: https://pypi.org/simple, https://us-python.pkg.dev/colab-wheels/public/simple/\n",
            "Requirement already satisfied: nltk in /usr/local/lib/python3.10/dist-packages (3.8.1)\n",
            "Requirement already satisfied: click in /usr/local/lib/python3.10/dist-packages (from nltk) (8.1.3)\n",
            "Requirement already satisfied: joblib in /usr/local/lib/python3.10/dist-packages (from nltk) (1.2.0)\n",
            "Requirement already satisfied: regex>=2021.8.3 in /usr/local/lib/python3.10/dist-packages (from nltk) (2022.10.31)\n",
            "Requirement already satisfied: tqdm in /usr/local/lib/python3.10/dist-packages (from nltk) (4.65.0)\n"
          ]
        }
      ]
    },
    {
      "cell_type": "code",
      "source": [
        "import nltk\n",
        "nltk.download('stopwords')"
      ],
      "metadata": {
        "colab": {
          "base_uri": "https://localhost:8080/"
        },
        "id": "iIAkDBZuoCkJ",
        "outputId": "8e474800-a8b6-482f-aafc-3b87fbe6486f"
      },
      "execution_count": null,
      "outputs": [
        {
          "output_type": "stream",
          "name": "stderr",
          "text": [
            "[nltk_data] Downloading package stopwords to /root/nltk_data...\n",
            "[nltk_data]   Unzipping corpora/stopwords.zip.\n"
          ]
        },
        {
          "output_type": "execute_result",
          "data": {
            "text/plain": [
              "True"
            ]
          },
          "metadata": {},
          "execution_count": 2
        }
      ]
    },
    {
      "cell_type": "code",
      "source": [
        "import nltk\n",
        "nltk.download('wordnet')"
      ],
      "metadata": {
        "colab": {
          "base_uri": "https://localhost:8080/"
        },
        "id": "SjCO0Qmdommv",
        "outputId": "041d0f6b-333f-4e8d-cb9c-4f1f6a3d06e3"
      },
      "execution_count": null,
      "outputs": [
        {
          "output_type": "stream",
          "name": "stderr",
          "text": [
            "[nltk_data] Downloading package wordnet to /root/nltk_data...\n"
          ]
        },
        {
          "output_type": "execute_result",
          "data": {
            "text/plain": [
              "True"
            ]
          },
          "metadata": {},
          "execution_count": 3
        }
      ]
    },
    {
      "cell_type": "code",
      "source": [
        "import nltk\n",
        "nltk.download('omw-1.4')"
      ],
      "metadata": {
        "colab": {
          "base_uri": "https://localhost:8080/"
        },
        "id": "Y8RmoaEDoy-u",
        "outputId": "0ee1827f-27be-4dc1-9988-4a4ca952e7e5"
      },
      "execution_count": null,
      "outputs": [
        {
          "output_type": "stream",
          "name": "stderr",
          "text": [
            "[nltk_data] Downloading package omw-1.4 to /root/nltk_data...\n"
          ]
        },
        {
          "output_type": "execute_result",
          "data": {
            "text/plain": [
              "True"
            ]
          },
          "metadata": {},
          "execution_count": 4
        }
      ]
    },
    {
      "cell_type": "code",
      "execution_count": null,
      "metadata": {
        "colab": {
          "base_uri": "https://localhost:8080/"
        },
        "id": "np-cUiLxlD3C",
        "outputId": "d4adbf97-f094-4a56-f444-d6b10bdbcd1c"
      },
      "outputs": [
        {
          "output_type": "stream",
          "name": "stdout",
          "text": [
            "svm using tfidf accuracy 0.31203703703703706\n",
            "random forest tfidf accuracy 0.3042592592592593\n",
            "log reg tfidf accuracy 0.33037037037037037\n",
            "lsvm using count vectors accuracy 0.8835185185185185\n",
            "random forest with count vectors accuracy 0.8605555555555555\n",
            "log reg count vectors accuracy 0.8901851851851852\n"
          ]
        }
      ],
      "source": [
        "import pandas as pd\n",
        "import io\n",
        "import numpy as np\n",
        "from nltk.corpus import stopwords\n",
        "from textblob import Word\n",
        "import re\n",
        "from sklearn import preprocessing\n",
        "from sklearn.model_selection import train_test_split\n",
        "from sklearn.feature_extraction.text import TfidfVectorizer\n",
        "from sklearn.feature_extraction.text import CountVectorizer\n",
        "from sklearn.metrics import accuracy_score\n",
        "from sklearn.linear_model import SGDClassifier\n",
        "from sklearn.ensemble import RandomForestClassifier\n",
        "from sklearn.linear_model import LogisticRegression\n",
        "from tkinter import *\n",
        "from sklearn.metrics import confusion_matrix\n",
        "from nltk.tokenize import word_tokenize\n",
        "from sklearn.naive_bayes import MultinomialNB\n",
        "from sklearn.ensemble import BaggingClassifier\n",
        "from sklearn.tree import DecisionTreeClassifier\n",
        "\n",
        "df_train = pd.read_csv('/content/train.txt', names=['content', 'sentiment'], sep=';')\n",
        "df_test = pd.read_csv('/content/test.txt', names=['content', 'sentiment'], sep=';')\n",
        "\n",
        "data = pd.concat([df_train,df_test])\n",
        "\n",
        "#Preprocessing includes making all letters as lower case, removing punctuations, removing stopwords and lemmatisation\n",
        "def preprocess(text):\n",
        "  text=text.apply(lambda x: \" \".join(x.lower() for x in x.split()))\n",
        "  text=text.str.replace('[^\\w\\s]',' ',regex=True)\n",
        "  stop = stopwords.words('english')\n",
        "  text= text.apply(lambda x: \" \".join(x for x in x.split() if x not in stop))\n",
        "  text = text.apply(lambda x: \" \".join([Word(word).lemmatize() for word in x.split()]))\n",
        "\n",
        "preprocess(data['content'])\n",
        "\n",
        "\n",
        "#Correcting Letter Repetitions\n",
        "\n",
        "def de_repeat(text):\n",
        "    pattern = re.compile(r\"(.)\\1{2,}\")\n",
        "    return pattern.sub(r\"\\1\\1\", text)\n",
        "\n",
        "data['content'] = data['content'].apply(lambda x: \" \".join(de_repeat(x) for x in x.split()))\n",
        "\n",
        "# Code to find the top 10,000 rarest words appearing in the data\n",
        "freq = pd.Series(' '.join(data['content']).split()).value_counts()[-10000:]\n",
        "\n",
        "# Removing all those rarely appearing words from the data\n",
        "freq = list(freq.index)\n",
        "data['content'] = data['content'].apply(lambda x: \" \".join(x for x in x.split() if x not in freq))\n",
        "\n",
        "#Encoding output labels\n",
        "lbl_enc = preprocessing.LabelEncoder()\n",
        "y = lbl_enc.fit_transform(data.sentiment.values)\n",
        "\n",
        "\n",
        "# Splitting into training and testing data in 70:30 ratio\n",
        "X_train, X_val, y_train, y_val = train_test_split(data.content.values, y, stratify=y, random_state=42, test_size=0.3, shuffle=True)\n",
        "\n",
        "# Extracting TF-IDF parameters\n",
        "tfidf = TfidfVectorizer(max_features=12000, analyzer='word',ngram_range=(1,3))\n",
        "X_train_tfidf = tfidf.fit_transform(X_train)\n",
        "X_val_tfidf = tfidf.fit_transform(X_val)\n",
        "\n",
        "# Extracting Count Vectors Parameters\n",
        "count_vect = CountVectorizer(analyzer='word')\n",
        "count_vect.fit(data['content'])\n",
        "X_train_count =  count_vect.transform(X_train)\n",
        "X_val_count =  count_vect.transform(X_val)\n",
        "\n",
        "#TF-IDF\n",
        "# Model 1: Linear SVM\n",
        "lsvm = SGDClassifier(alpha=0.0001, random_state=5, max_iter=5000, tol=None)\n",
        "lsvm.fit(X_train_tfidf, y_train)\n",
        "y_pred = lsvm.predict(X_val_tfidf)\n",
        "print('svm using tfidf accuracy %s' % accuracy_score(y_pred, y_val))\n",
        "\n",
        "# Model 2: Random Forest Classifier\n",
        "rf = RandomForestClassifier(n_estimators=700)\n",
        "rf.fit(X_train_tfidf, y_train)\n",
        "y_pred = rf.predict(X_val_tfidf)\n",
        "print('random forest tfidf accuracy %s' % accuracy_score(y_pred, y_val))\n",
        "\n",
        "# Model 3: logistic regression\n",
        "logreg = LogisticRegression(solver='liblinear', max_iter=5000)\n",
        "logreg.fit(X_train_tfidf, y_train)\n",
        "y_pred = logreg.predict(X_val_tfidf)\n",
        "print('log reg tfidf accuracy %s' % accuracy_score(y_pred, y_val))\n",
        "\n",
        "\n",
        "## Building models using count vectors feature\n",
        "# Model 1: Linear SVM\n",
        "lsvm = SGDClassifier(alpha=0.0001, random_state=5, max_iter=5000, tol=None, class_weight=\"balanced\")\n",
        "lsvm.fit(X_train_count, y_train)\n",
        "y_pred = lsvm.predict(X_val_count)\n",
        "print('lsvm using count vectors accuracy %s' % accuracy_score(y_pred, y_val))\n",
        "\n",
        "# Model 2: Random Forest Classifier\n",
        "rf = RandomForestClassifier(n_estimators=700)\n",
        "rf.fit(X_train_count, y_train)\n",
        "y_pred = rf.predict(X_val_count)\n",
        "print('random forest with count vectors accuracy %s' % accuracy_score(y_pred, y_val))\n",
        "\n",
        "# Model 3: Logistic Regression\n",
        "logreg = LogisticRegression(solver='liblinear', max_iter=5000)\n",
        "logreg.fit(X_train_count, y_train)\n",
        "y_pred = logreg.predict(X_val_count)\n",
        "print('log reg count vectors accuracy %s' % accuracy_score(y_pred, y_val))\n"
      ]
    },
    {
      "cell_type": "code",
      "source": [
        "data['sentiment'].value_counts().plot(kind='bar')"
      ],
      "metadata": {
        "colab": {
          "base_uri": "https://localhost:8080/",
          "height": 490
        },
        "id": "crpSwW8mCxsf",
        "outputId": "aeda8665-f1b9-4660-8a87-253cde2b1892"
      },
      "execution_count": null,
      "outputs": [
        {
          "output_type": "execute_result",
          "data": {
            "text/plain": [
              "<Axes: >"
            ]
          },
          "metadata": {},
          "execution_count": 6
        },
        {
          "output_type": "display_data",
          "data": {
            "text/plain": [
              "<Figure size 640x480 with 1 Axes>"
            ],
            "image/png": "[encoded data removed]"
          },
          "metadata": {}
        }
      ]
    },
    {
      "cell_type": "code",
      "source": [
        "logreg.classes_"
      ],
      "metadata": {
        "colab": {
          "base_uri": "https://localhost:8080/"
        },
        "id": "87XrNFV_-cBH",
        "outputId": "93667a22-4687-424c-e07c-0b72c82835ed"
      },
      "execution_count": null,
      "outputs": [
        {
          "output_type": "execute_result",
          "data": {
            "text/plain": [
              "array([0, 1, 2, 3, 4, 5])"
            ]
          },
          "metadata": {},
          "execution_count": 7
        }
      ]
    },
    {
      "cell_type": "code",
      "source": [
        "from ipywidgets import widgets\n",
        "lb1=widgets.Label('Input Text:')\n",
        "display(lb1)\n",
        "text=widgets.Text()\n",
        "display(text)\n",
        "btn=widgets.Button(description=\"Predict\")\n",
        "display(btn)\n",
        "lb2=widgets.Label()\n",
        "display(lb2)\n",
        "def predict(b):\n",
        "  tweets = pd.DataFrame([text.value])\n",
        "  # Doing some preprocessing on these tweets as done before\n",
        "  tweets[0] = tweets[0].str.replace('[^\\w\\s]',' ',regex=True)\n",
        "  from nltk.corpus import stopwords\n",
        "  stop = stopwords.words('english')\n",
        "  tweets[0] = tweets[0].apply(lambda x: \" \".join(x for x in x.split() if x not in stop))\n",
        "  from textblob import Word\n",
        "  tweets[0] = tweets[0].apply(lambda x: \" \".join([Word(word).lemmatize() for word in x.split()]))\n",
        "  # Extracting Count Vectors feature from our tweets\n",
        "  tweet_count = count_vect.transform(tweets[0])\n",
        "  # Predicting the emotion of the tweet using our already trained logistic regression\n",
        "  tweet_pred = logreg.predict(tweet_count)\n",
        "  if tweet_pred==0:\n",
        "    str=\"ANGER 😡\"\n",
        "  elif tweet_pred==1:\n",
        "    str=\"FEAR 😱\"\n",
        "  elif tweet_pred==2:\n",
        "    str=\"JOY 😃\"\n",
        "  elif tweet_pred==3:\n",
        "    str=\"LOVE 😍\"\n",
        "  elif tweet_pred==4:\n",
        "    str=\"SADNESS 😞\"\n",
        "  else:\n",
        "    str=\"SURPRISE 😯\"\n",
        "  lb2.value='Emotion = '+str\n",
        "btn.on_click(predict)"
      ],
      "metadata": {
        "colab": {
          "base_uri": "https://localhost:8080/",
          "height": 115,
          "referenced_widgets": [
            "bc85ebbd75134733b256424fc86ae483",
            "580d6ede86a243789625aebb87219b88",
            "cc685a35f7fc42da99b10e7c3884dcb3",
            "ac1edea60c844414b5c726952cfd1c68",
            "f5ae45a2d3974be3b4de4a5065f7961e",
            "a0b85cd0ab734afab77e8e06a26dcad2",
            "438d6daa1ebd43d3838ff8f1a1386f37",
            "1ea24f28f22b48a0a75f21deb0f5658e",
            "f5f8ba37a8bc420b8b445be36dd25340",
            "87874e8e4c784c42b68f58cefcff737e",
            "5c4f7a8df748467cb994a7a698852606",
            "3cf887eb0f8b4a5baf32dd4f35a36d1f"
          ]
        },
        "id": "EWaZ6q6Y8AgE",
        "outputId": "4407e123-5875-4ed1-c8ee-0bde58eb6504"
      },
      "execution_count": null,
      "outputs": [
        {
          "output_type": "display_data",
          "data": {
            "text/plain": [
              "Label(value='Input Text:')"
            ],
            "application/vnd.jupyter.widget-view+json": {
              "version_major": 2,
              "version_minor": 0,
              "model_id": "bc85ebbd75134733b256424fc86ae483"
            }
          },
          "metadata": {}
        },
        {
          "output_type": "display_data",
          "data": {
            "text/plain": [
              "Text(value='')"
            ],
            "application/vnd.jupyter.widget-view+json": {
              "version_major": 2,
              "version_minor": 0,
              "model_id": "ac1edea60c844414b5c726952cfd1c68"
            }
          },
          "metadata": {}
        },
        {
          "output_type": "display_data",
          "data": {
            "text/plain": [
              "Button(description='Predict', style=ButtonStyle())"
            ],
            "application/vnd.jupyter.widget-view+json": {
              "version_major": 2,
              "version_minor": 0,
              "model_id": "438d6daa1ebd43d3838ff8f1a1386f37"
            }
          },
          "metadata": {}
        },
        {
          "output_type": "display_data",
          "data": {
            "text/plain": [
              "Label(value='')"
            ],
            "application/vnd.jupyter.widget-view+json": {
              "version_major": 2,
              "version_minor": 0,
              "model_id": "87874e8e4c784c42b68f58cefcff737e"
            }
          },
          "metadata": {}
        }
      ]
    },
    {
      "cell_type": "code",
      "source": [
        "from sklearn.utils.multiclass import unique_labels"
      ],
      "metadata": {
        "id": "QR3qRch9GmOa"
      },
      "execution_count": null,
      "outputs": []
    },
    {
      "cell_type": "code",
      "source": [
        "def plot1(y_val,y_pred):\n",
        "  labels=unique_labels(y_val)\n",
        "  column=[f'Predicted {label}' for label in labels]\n",
        "  indices=[f'Actual {label}' for label in labels]\n",
        "  table=pd.DataFrame(confusion_matrix(y_val,y_pred),columns=column,index=indices)\n",
        "  return table"
      ],
      "metadata": {
        "id": "hwdN0U0dJom6"
      },
      "execution_count": null,
      "outputs": []
    },
    {
      "cell_type": "code",
      "source": [
        "plot1(y_val,y_pred)"
      ],
      "metadata": {
        "colab": {
          "base_uri": "https://localhost:8080/",
          "height": 237
        },
        "id": "fHZ6LvRVJuo1",
        "outputId": "829e8d75-d971-4a0e-a3d3-348775577867"
      },
      "execution_count": null,
      "outputs": [
        {
          "output_type": "execute_result",
          "data": {
            "text/plain": [
              "          Predicted 0  Predicted 1  Predicted 2  Predicted 3  Predicted 4  \\\n",
              "Actual 0          636           14           33            3           44   \n",
              "Actual 1           21          545           18            2           37   \n",
              "Actual 2            9           10         1706           56           26   \n",
              "Actual 3            3            2           97          328            9   \n",
              "Actual 4           38           22           48            6         1456   \n",
              "Actual 5            1           27           19            1            8   \n",
              "\n",
              "          Predicted 5  \n",
              "Actual 0            0  \n",
              "Actual 1           25  \n",
              "Actual 2           10  \n",
              "Actual 3            0  \n",
              "Actual 4            4  \n",
              "Actual 5          136  "
            ],
            "text/html": [
              "\n",
              "  <div id=\"df-aef5eab7-0973-46bf-b4f7-8902811a1eb7\">\n",
              "    <div class=\"colab-df-container\">\n",
              "      <div>\n",
              "<style scoped>\n",
              "    .dataframe tbody tr th:only-of-type {\n",
              "        vertical-align: middle;\n",
              "    }\n",
              "\n",
              "    .dataframe tbody tr th {\n",
              "        vertical-align: top;\n",
              "    }\n",
              "\n",
              "    .dataframe thead th {\n",
              "        text-align: right;\n",
              "    }\n",
              "</style>\n",
              "<table border=\"1\" class=\"dataframe\">\n",
              "  <thead>\n",
              "    <tr style=\"text-align: right;\">\n",
              "      <th></th>\n",
              "      <th>Predicted 0</th>\n",
              "      <th>Predicted 1</th>\n",
              "      <th>Predicted 2</th>\n",
              "      <th>Predicted 3</th>\n",
              "      <th>Predicted 4</th>\n",
              "      <th>Predicted 5</th>\n",
              "    </tr>\n",
              "  </thead>\n",
              "  <tbody>\n",
              "    <tr>\n",
              "      <th>Actual 0</th>\n",
              "      <td>636</td>\n",
              "      <td>14</td>\n",
              "      <td>33</td>\n",
              "      <td>3</td>\n",
              "      <td>44</td>\n",
              "      <td>0</td>\n",
              "    </tr>\n",
              "    <tr>\n",
              "      <th>Actual 1</th>\n",
              "      <td>21</td>\n",
              "      <td>545</td>\n",
              "      <td>18</td>\n",
              "      <td>2</td>\n",
              "      <td>37</td>\n",
              "      <td>25</td>\n",
              "    </tr>\n",
              "    <tr>\n",
              "      <th>Actual 2</th>\n",
              "      <td>9</td>\n",
              "      <td>10</td>\n",
              "      <td>1706</td>\n",
              "      <td>56</td>\n",
              "      <td>26</td>\n",
              "      <td>10</td>\n",
              "    </tr>\n",
              "    <tr>\n",
              "      <th>Actual 3</th>\n",
              "      <td>3</td>\n",
              "      <td>2</td>\n",
              "      <td>97</td>\n",
              "      <td>328</td>\n",
              "      <td>9</td>\n",
              "      <td>0</td>\n",
              "    </tr>\n",
              "    <tr>\n",
              "      <th>Actual 4</th>\n",
              "      <td>38</td>\n",
              "      <td>22</td>\n",
              "      <td>48</td>\n",
              "      <td>6</td>\n",
              "      <td>1456</td>\n",
              "      <td>4</td>\n",
              "    </tr>\n",
              "    <tr>\n",
              "      <th>Actual 5</th>\n",
              "      <td>1</td>\n",
              "      <td>27</td>\n",
              "      <td>19</td>\n",
              "      <td>1</td>\n",
              "      <td>8</td>\n",
              "      <td>136</td>\n",
              "    </tr>\n",
              "  </tbody>\n",
              "</table>\n",
              "</div>\n",
              "      <button class=\"colab-df-convert\" onclick=\"convertToInteractive('df-aef5eab7-0973-46bf-b4f7-8902811a1eb7')\"\n",
              "              title=\"Convert this dataframe to an interactive table.\"\n",
              "              style=\"display:none;\">\n",
              "        \n",
              "  <svg xmlns=\"http://www.w3.org/2000/svg\" height=\"24px\"viewBox=\"0 0 24 24\"\n",
              "       width=\"24px\">\n",
              "    <path d=\"M0 0h24v24H0V0z\" fill=\"none\"/>\n",
              "    <path d=\"M18.56 5.44l.94 2.06.94-2.06 2.06-.94-2.06-.94-.94-2.06-.94 2.06-2.06.94zm-11 1L8.5 8.5l.94-2.06 2.06-.94-2.06-.94L8.5 2.5l-.94 2.06-2.06.94zm10 10l.94 2.06.94-2.06 2.06-.94-2.06-.94-.94-2.06-.94 2.06-2.06.94z\"/><path d=\"M17.41 7.96l-1.37-1.37c-.4-.4-.92-.59-1.43-.59-.52 0-1.04.2-1.43.59L10.3 9.45l-7.72 7.72c-.78.78-.78 2.05 0 2.83L4 21.41c.39.39.9.59 1.41.59.51 0 1.02-.2 1.41-.59l7.78-7.78 2.81-2.81c.8-.78.8-2.07 0-2.86zM5.41 20L4 18.59l7.72-7.72 1.47 1.35L5.41 20z\"/>\n",
              "  </svg>\n",
              "      </button>\n",
              "      \n",
              "  <style>\n",
              "    .colab-df-container {\n",
              "      display:flex;\n",
              "      flex-wrap:wrap;\n",
              "      gap: 12px;\n",
              "    }\n",
              "\n",
              "    .colab-df-convert {\n",
              "      background-color: #E8F0FE;\n",
              "      border: none;\n",
              "      border-radius: 50%;\n",
              "      cursor: pointer;\n",
              "      display: none;\n",
              "      fill: #1967D2;\n",
              "      height: 32px;\n",
              "      padding: 0 0 0 0;\n",
              "      width: 32px;\n",
              "    }\n",
              "\n",
              "    .colab-df-convert:hover {\n",
              "      background-color: #E2EBFA;\n",
              "      box-shadow: 0px 1px 2px rgba(60, 64, 67, 0.3), 0px 1px 3px 1px rgba(60, 64, 67, 0.15);\n",
              "      fill: #174EA6;\n",
              "    }\n",
              "\n",
              "    [theme=dark] .colab-df-convert {\n",
              "      background-color: #3B4455;\n",
              "      fill: #D2E3FC;\n",
              "    }\n",
              "\n",
              "    [theme=dark] .colab-df-convert:hover {\n",
              "      background-color: #434B5C;\n",
              "      box-shadow: 0px 1px 3px 1px rgba(0, 0, 0, 0.15);\n",
              "      filter: drop-shadow(0px 1px 2px rgba(0, 0, 0, 0.3));\n",
              "      fill: #FFFFFF;\n",
              "    }\n",
              "  </style>\n",
              "\n",
              "      <script>\n",
              "        const buttonEl =\n",
              "          document.querySelector('#df-aef5eab7-0973-46bf-b4f7-8902811a1eb7 button.colab-df-convert');\n",
              "        buttonEl.style.display =\n",
              "          google.colab.kernel.accessAllowed ? 'block' : 'none';\n",
              "\n",
              "        async function convertToInteractive(key) {\n",
              "          const element = document.querySelector('#df-aef5eab7-0973-46bf-b4f7-8902811a1eb7');\n",
              "          const dataTable =\n",
              "            await google.colab.kernel.invokeFunction('convertToInteractive',\n",
              "                                                     [key], {});\n",
              "          if (!dataTable) return;\n",
              "\n",
              "          const docLinkHtml = 'Like what you see? Visit the ' +\n",
              "            '<a target=\"_blank\" href=https://colab.research.google.com/notebooks/data_table.ipynb>data table notebook</a>'\n",
              "            + ' to learn more about interactive tables.';\n",
              "          element.innerHTML = '';\n",
              "          dataTable['output_type'] = 'display_data';\n",
              "          await google.colab.output.renderOutput(dataTable, element);\n",
              "          const docLink = document.createElement('div');\n",
              "          docLink.innerHTML = docLinkHtml;\n",
              "          element.appendChild(docLink);\n",
              "        }\n",
              "      </script>\n",
              "    </div>\n",
              "  </div>\n",
              "  "
            ]
          },
          "metadata": {},
          "execution_count": 11
        }
      ]
    },
    {
      "cell_type": "code",
      "source": [
        "import seaborn as sns"
      ],
      "metadata": {
        "id": "uLKyf4irjeF8"
      },
      "execution_count": null,
      "outputs": []
    },
    {
      "cell_type": "code",
      "source": [
        "def plot2(y_val,y_pred):\n",
        "  labels=unique_labels(y_val)\n",
        "  column=[f'Predicted {label}' for label in labels]\n",
        "  indices=[f'Actual {label}' for label in labels]\n",
        "  table=pd.DataFrame(confusion_matrix(y_val,y_pred),columns=column,index=indices)\n",
        "  return sns.heatmap(table, annot=True, fmt='d', cmap='Blues')"
      ],
      "metadata": {
        "id": "MTCT3NeDGFgL"
      },
      "execution_count": null,
      "outputs": []
    },
    {
      "cell_type": "code",
      "source": [
        "plot2(y_val,y_pred)"
      ],
      "metadata": {
        "colab": {
          "base_uri": "https://localhost:8080/",
          "height": 512
        },
        "id": "CuAj7B2-Ivza",
        "outputId": "c2e5ae44-db69-4038-a675-88d69fb9e0c0"
      },
      "execution_count": null,
      "outputs": [
        {
          "output_type": "execute_result",
          "data": {
            "text/plain": [
              "<Axes: >"
            ]
          },
          "metadata": {},
          "execution_count": 18
        },
        {
          "output_type": "display_data",
          "data": {
            "text/plain": [
              "<Figure size 640x480 with 2 Axes>"
            ],
            "image/png": "[encoded data removed]"
          },
          "metadata": {}
        }
      ]
    }
  ]
}