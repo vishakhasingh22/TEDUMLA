{
  "nbformat": 4,
  "nbformat_minor": 0,
  "metadata": {
    "colab": {
      "provenance": []
    },
    "kernelspec": {
      "name": "python3",
      "display_name": "Python 3"
    },
    "language_info": {
      "name": "python"
    }
  },
  "cells": [
    {
      "cell_type": "code",
      "source": [
        "!pip install nltk"
      ],
      "metadata": {
        "colab": {
          "base_uri": "https://localhost:8080/"
        },
        "id": "u_WUZetontfp",
        "outputId": "a0d50b44-5e04-4129-8804-bf3fd5841fcd"
      },
      "execution_count": null,
      "outputs": [
        {
          "output_type": "stream",
          "name": "stdout",
          "text": [
            "Looking in indexes: https://pypi.org/simple, https://us-python.pkg.dev/colab-wheels/public/simple/\n",
            "Requirement already satisfied: nltk in /usr/local/lib/python3.9/dist-packages (3.8.1)\n",
            "Requirement already satisfied: click in /usr/local/lib/python3.9/dist-packages (from nltk) (8.1.3)\n",
            "Requirement already satisfied: tqdm in /usr/local/lib/python3.9/dist-packages (from nltk) (4.65.0)\n",
            "Requirement already satisfied: regex>=2021.8.3 in /usr/local/lib/python3.9/dist-packages (from nltk) (2022.10.31)\n",
            "Requirement already satisfied: joblib in /usr/local/lib/python3.9/dist-packages (from nltk) (1.1.1)\n"
          ]
        }
      ]
    },
    {
      "cell_type": "code",
      "source": [
        "import nltk\n",
        "nltk.download('stopwords')"
      ],
      "metadata": {
        "colab": {
          "base_uri": "https://localhost:8080/"
        },
        "id": "iIAkDBZuoCkJ",
        "outputId": "af54ca8a-e27c-467b-b558-9134ea5616bf"
      },
      "execution_count": null,
      "outputs": [
        {
          "output_type": "stream",
          "name": "stderr",
          "text": [
            "[nltk_data] Downloading package stopwords to /root/nltk_data...\n",
            "[nltk_data]   Unzipping corpora/stopwords.zip.\n"
          ]
        },
        {
          "output_type": "execute_result",
          "data": {
            "text/plain": [
              "True"
            ]
          },
          "metadata": {},
          "execution_count": 4
        }
      ]
    },
    {
      "cell_type": "code",
      "source": [
        "import nltk\n",
        "nltk.download('wordnet')"
      ],
      "metadata": {
        "colab": {
          "base_uri": "https://localhost:8080/"
        },
        "id": "SjCO0Qmdommv",
        "outputId": "bec82e94-883d-4940-c561-a4e8222e8d12"
      },
      "execution_count": null,
      "outputs": [
        {
          "output_type": "stream",
          "name": "stderr",
          "text": [
            "[nltk_data] Downloading package wordnet to /root/nltk_data...\n"
          ]
        },
        {
          "output_type": "execute_result",
          "data": {
            "text/plain": [
              "True"
            ]
          },
          "metadata": {},
          "execution_count": 5
        }
      ]
    },
    {
      "cell_type": "code",
      "source": [
        "import nltk\n",
        "nltk.download('omw-1.4')"
      ],
      "metadata": {
        "colab": {
          "base_uri": "https://localhost:8080/"
        },
        "id": "Y8RmoaEDoy-u",
        "outputId": "3a5e0706-0bfa-4bd4-865e-edb959cbd4fd"
      },
      "execution_count": null,
      "outputs": [
        {
          "output_type": "stream",
          "name": "stderr",
          "text": [
            "[nltk_data] Downloading package omw-1.4 to /root/nltk_data...\n"
          ]
        },
        {
          "output_type": "execute_result",
          "data": {
            "text/plain": [
              "True"
            ]
          },
          "metadata": {},
          "execution_count": 6
        }
      ]
    },
    {
      "cell_type": "code",
      "execution_count": null,
      "metadata": {
        "colab": {
          "base_uri": "https://localhost:8080/"
        },
        "id": "np-cUiLxlD3C",
        "outputId": "492b24e1-e1d1-4ac9-c408-c661c5c55486"
      },
      "outputs": [
        {
          "output_type": "stream",
          "name": "stderr",
          "text": [
            "<ipython-input-23-f98ba263c4ce>:25: FutureWarning: The frame.append method is deprecated and will be removed from pandas in a future version. Use pandas.concat instead.\n",
            "  data = df_train.append(df_test)\n",
            "<ipython-input-23-f98ba263c4ce>:45: FutureWarning: The default value of regex will change from True to False in a future version.\n",
            "  data['content'] = data['content'].str.replace('[^\\w\\s]',' ')\n"
          ]
        },
        {
          "output_type": "stream",
          "name": "stdout",
          "text": [
            "svm using tfidf accuracy 0.2782222222222222\n",
            "random forest tfidf accuracy 0.162\n",
            "log reg tfidf accuracy 0.3015555555555556\n",
            "lsvm using count vectors accuracy 0.8853333333333333\n",
            "random forest with count vectors accuracy 0.8773333333333333\n",
            "log reg count vectors accuracy 0.8906666666666667\n"
          ]
        }
      ],
      "source": [
        "import pandas as pd\n",
        "import io\n",
        "import numpy as np\n",
        "from nltk.corpus import stopwords\n",
        "from textblob import Word\n",
        "import re\n",
        "from sklearn import preprocessing\n",
        "from sklearn.model_selection import train_test_split\n",
        "from sklearn.feature_extraction.text import TfidfVectorizer\n",
        "from sklearn.feature_extraction.text import CountVectorizer\n",
        "from sklearn.metrics import accuracy_score\n",
        "from sklearn.linear_model import SGDClassifier\n",
        "from sklearn.ensemble import RandomForestClassifier\n",
        "from sklearn.linear_model import LogisticRegression\n",
        "from tkinter import *\n",
        "from sklearn.metrics import confusion_matrix\n",
        "from nltk.tokenize import word_tokenize\n",
        "from sklearn.naive_bayes import MultinomialNB\n",
        "from sklearn.ensemble import BaggingClassifier\n",
        "from sklearn.tree import DecisionTreeClassifier\n",
        "\n",
        "df_train = pd.read_csv('/content/train.txt', names=['content', 'sentiment'], sep=';')\n",
        "df_test = pd.read_csv('/content/test.txt', names=['content', 'sentiment'], sep=';')\n",
        "# data = pd.read_csv('/content/emotion.csv')\n",
        "data = df_train.append(df_test)\n",
        "# data = data.drop('author', axis=1)\n",
        "\n",
        "# # Dropping rows with other emotion labels\n",
        "# data = data.drop(data[data.sentiment == 'anger'].index)\n",
        "# data = data.drop(data[data.sentiment == 'boredom'].index)\n",
        "# data = data.drop(data[data.sentiment == 'enthusiasm'].index)\n",
        "# data = data.drop(data[data.sentiment == 'empty'].index)\n",
        "# # data = data.drop(data[data.sentiment == 'fun'].index)\n",
        "# data = data.drop(data[data.sentiment == 'relief'].index)\n",
        "# data = data.drop(data[data.sentiment == 'surprise'].index)\n",
        "# # data = data.drop(data[data.sentiment == 'love'].index)\n",
        "# data = data.drop(data[data.sentiment == 'hate'].index)\n",
        "# # data = data.drop(data[data.sentiment == 'neutral'].index)\n",
        "# # data = data.drop(data[data.sentiment == 'worry'].index)\n",
        "\n",
        "# Making all letters lowercase\n",
        "data['content'] = data['content'].apply(lambda x: \" \".join(x.lower() for x in x.split()))\n",
        "\n",
        "# Removing Punctuation, Symbols\n",
        "data['content'] = data['content'].str.replace('[^\\w\\s]',' ')\n",
        "\n",
        "# Removing Stop Words using NLTK\n",
        "stop = stopwords.words('english')\n",
        "data['content'] = data['content'].apply(lambda x: \" \".join(x for x in x.split() if x not in stop))\n",
        "\n",
        "#Lemmatisation\n",
        "data['content'] = data['content'].apply(lambda x: \" \".join([Word(word).lemmatize() for word in x.split()]))\n",
        "\n",
        "# #removing numbers\n",
        "# data['content']=''.join([i for i in data['content'] if not i.isdigit()])\n",
        "\n",
        "\n",
        "#Correcting Letter Repetitions\n",
        "\n",
        "def de_repeat(text):\n",
        "    pattern = re.compile(r\"(.)\\1{2,}\")\n",
        "    return pattern.sub(r\"\\1\\1\", text)\n",
        "\n",
        "data['content'] = data['content'].apply(lambda x: \" \".join(de_repeat(x) for x in x.split()))\n",
        "\n",
        "# Code to find the top 10,000 rarest words appearing in the data\n",
        "freq = pd.Series(' '.join(data['content']).split()).value_counts()[-10000:]\n",
        "\n",
        "# Removing all those rarely appearing words from the data\n",
        "freq = list(freq.index)\n",
        "data['content'] = data['content'].apply(lambda x: \" \".join(x for x in x.split() if x not in freq))\n",
        "\n",
        "#Encoding output labels 'sadness' as '1' & 'happiness' as '0'\n",
        "lbl_enc = preprocessing.LabelEncoder()\n",
        "y = lbl_enc.fit_transform(data.sentiment.values)\n",
        "\n",
        "\n",
        "# Splitting into training and testing data in 80:20 ratio\n",
        "X_train, X_val, y_train, y_val = train_test_split(data.content.values, y, stratify=y, random_state=42, test_size=0.25, shuffle=True)\n",
        "\n",
        "# Extracting TF-IDF parameters\n",
        "tfidf = TfidfVectorizer(max_features=10000, analyzer='word',ngram_range=(1,3))\n",
        "X_train_tfidf = tfidf.fit_transform(X_train)\n",
        "X_val_tfidf = tfidf.fit_transform(X_val)\n",
        "\n",
        "# Extracting Count Vectors Parameters\n",
        "count_vect = CountVectorizer(analyzer='word')\n",
        "count_vect.fit(data['content'])\n",
        "X_train_count =  count_vect.transform(X_train)\n",
        "X_val_count =  count_vect.transform(X_val)\n",
        "\n",
        "#TF-IDF\n",
        "# Model 1: Linear SVM\n",
        "lsvm = SGDClassifier(alpha=0.0001, random_state=5, max_iter=5000, tol=None)\n",
        "lsvm.fit(X_train_tfidf, y_train)\n",
        "y_pred = lsvm.predict(X_val_tfidf)\n",
        "print('svm using tfidf accuracy %s' % accuracy_score(y_pred, y_val))\n",
        "\n",
        "# Model 2: Random Forest Classifier\n",
        "rf = RandomForestClassifier(n_estimators=700)\n",
        "rf.fit(X_train_tfidf, y_train)\n",
        "y_pred = rf.predict(X_val_tfidf)\n",
        "print('random forest tfidf accuracy %s' % accuracy_score(y_pred, y_val))\n",
        "\n",
        "# Model 3: logistic regression\n",
        "logreg = LogisticRegression(solver='liblinear', max_iter=5000)\n",
        "logreg.fit(X_train_tfidf, y_train)\n",
        "y_pred = logreg.predict(X_val_tfidf)\n",
        "print('log reg tfidf accuracy %s' % accuracy_score(y_pred, y_val))\n",
        "\n",
        "\n",
        "## Building models using count vectors feature\n",
        "# Model 1: Linear SVM\n",
        "lsvm = SGDClassifier(alpha=0.0001, random_state=5, max_iter=5000, tol=None, class_weight=\"balanced\")\n",
        "lsvm.fit(X_train_count, y_train)\n",
        "y_pred = lsvm.predict(X_val_count)\n",
        "print('lsvm using count vectors accuracy %s' % accuracy_score(y_pred, y_val))\n",
        "\n",
        "# Model 2: Random Forest Classifier\n",
        "rf = RandomForestClassifier(n_estimators=200)\n",
        "rf.fit(X_train_count, y_train)\n",
        "y_pred = rf.predict(X_val_count)\n",
        "print('random forest with count vectors accuracy %s' % accuracy_score(y_pred, y_val))\n",
        "\n",
        "# Model 3: Logistic Regression\n",
        "logreg = LogisticRegression(solver='liblinear', max_iter=5000)\n",
        "logreg.fit(X_train_count, y_train)\n",
        "y_pred = logreg.predict(X_val_count)\n",
        "print('log reg count vectors accuracy %s' % accuracy_score(y_pred, y_val))\n",
        "\n",
        "# nb = MultinomialNB()\n",
        "# nb.fit(X_train_count, y_train)\n",
        "# y_pred = nb.predict(X_val_count)\n",
        "# print('naive bayes count vectors accuracy %s' % accuracy_score(y_pred, y_val))\n",
        "\n",
        "#Below are 8 random statements. The first 4 depict happiness. The last 4 depict sadness\n",
        "\n",
        "# tweets = pd.DataFrame(['I am very happy today! The atmosphere looks cheerful',\n",
        "# 'Things are looking great. It was such a good day',\n",
        "# 'Success is right around the corner. Lets celebrate this victory',\n",
        "# 'Everything is more beautiful when you experience them with a smile!',\n",
        "# 'Now this is my worst, okay? But I am gonna get better.',\n",
        "# 'I am tired, boss. Tired of being on the road, lonely as a sparrow in the rain. I am tired of all the pain I feel',\n",
        "# 'This is quite depressing. I am filled with sorrow',\n",
        "# 'His death broke my heart. It was a sad day'])\n",
        "\n",
        "# # Doing some preprocessing on these tweets as done before\n",
        "# tweets[0] = tweets[0].str.replace('[^\\w\\s]',' ')\n",
        "# from nltk.corpus import stopwords\n",
        "# stop = stopwords.words('english')\n",
        "# tweets[0] = tweets[0].apply(lambda x: \" \".join(x for x in x.split() if x not in stop))\n",
        "# from textblob import Word\n",
        "# tweets[0] = tweets[0].apply(lambda x: \" \".join([Word(word).lemmatize() for word in x.split()]))\n",
        "\n",
        "# # Extracting Count Vectors feature from our tweets\n",
        "# tweet_count = count_vect.transform(tweets[0])\n",
        "\n",
        "# #Predicting the emotion of the tweet using our already trained LR\n",
        "# tweet_pred = logreg.predict(tweet_count)\n",
        "# print(tweet_pred)\n",
        "# ## result\n",
        "## [0 0 0 0 1 1 1 1]\n"
      ]
    },
    {
      "cell_type": "code",
      "source": [
        "data['sentiment'].value_counts().plot(kind='bar')"
      ],
      "metadata": {
        "colab": {
          "base_uri": "https://localhost:8080/",
          "height": 490
        },
        "id": "crpSwW8mCxsf",
        "outputId": "96753bbc-3756-46e7-87b3-56ba3a42c7dd"
      },
      "execution_count": null,
      "outputs": [
        {
          "output_type": "execute_result",
          "data": {
            "text/plain": [
              "<Axes: >"
            ]
          },
          "metadata": {},
          "execution_count": 24
        },
        {
          "output_type": "display_data",
          "data": {
            "text/plain": [
              "<Figure size 640x480 with 1 Axes>"
            ],
            "image/png": "[encoded data removed]"
          },
          "metadata": {}
        }
      ]
    },
    {
      "cell_type": "code",
      "source": [
        "logreg.classes_"
      ],
      "metadata": {
        "colab": {
          "base_uri": "https://localhost:8080/"
        },
        "id": "87XrNFV_-cBH",
        "outputId": "e0aa5a43-e4e0-46bc-dd92-82a7727562d2"
      },
      "execution_count": null,
      "outputs": [
        {
          "output_type": "execute_result",
          "data": {
            "text/plain": [
              "array([0, 1, 2, 3, 4, 5])"
            ]
          },
          "metadata": {},
          "execution_count": 25
        }
      ]
    },
    {
      "cell_type": "code",
      "source": [
        "#@title GUI Implementation\n",
        "Text = 'i was stunned to hear the news' #@param {type:\"string\"}\n",
        "print(Text)\n",
        "tweets = pd.DataFrame([Text])\n",
        "# Doing some preprocessing on these tweets as done before\n",
        "tweets[0] = tweets[0].str.replace('[^\\w\\s]',' ')\n",
        "from nltk.corpus import stopwords\n",
        "stop = stopwords.words('english')\n",
        "tweets[0] = tweets[0].apply(lambda x: \" \".join(x for x in x.split() if x not in stop))\n",
        "from textblob import Word\n",
        "tweets[0] = tweets[0].apply(lambda x: \" \".join([Word(word).lemmatize() for word in x.split()]))\n",
        "# Extracting Count Vectors feature from our tweets\n",
        "tweet_count = count_vect.transform(tweets[0])\n",
        "# Predicting the emotion of the tweet using our already trained linear SVM\n",
        "tweet_pred = logreg.predict(tweet_count)\n",
        "print(tweet_pred)"
      ],
      "metadata": {
        "colab": {
          "base_uri": "https://localhost:8080/"
        },
        "id": "2GdK9xLxdp3B",
        "outputId": "cb0cf09e-1204-411d-abaa-ea579f3defc9",
        "cellView": "form"
      },
      "execution_count": null,
      "outputs": [
        {
          "output_type": "stream",
          "name": "stdout",
          "text": [
            "i was stunned to hear the news\n",
            "[5]\n"
          ]
        },
        {
          "output_type": "stream",
          "name": "stderr",
          "text": [
            "<ipython-input-56-21db55ffe6d9>:6: FutureWarning: The default value of regex will change from True to False in a future version.\n",
            "  tweets[0] = tweets[0].str.replace('[^\\w\\s]',' ')\n"
          ]
        }
      ]
    },
    {
      "cell_type": "code",
      "source": [
        "from sklearn.utils.multiclass import unique_labels"
      ],
      "metadata": {
        "id": "QR3qRch9GmOa"
      },
      "execution_count": null,
      "outputs": []
    },
    {
      "cell_type": "code",
      "source": [
        "def plot1(y_val,y_pred):\n",
        "  labels=unique_labels(y_val)\n",
        "  column=[f'Predicted {label}' for label in labels]\n",
        "  indices=[f'Actual {label}' for label in labels]\n",
        "  table=pd.DataFrame(confusion_matrix(y_val,y_pred),columns=column,index=indices)\n",
        "  return table"
      ],
      "metadata": {
        "id": "hwdN0U0dJom6"
      },
      "execution_count": null,
      "outputs": []
    },
    {
      "cell_type": "code",
      "source": [
        "plot1(y_val,y_pred)"
      ],
      "metadata": {
        "colab": {
          "base_uri": "https://localhost:8080/",
          "height": 237
        },
        "id": "fHZ6LvRVJuo1",
        "outputId": "05ea2dca-1135-43b7-a54c-acbe43321dba"
      },
      "execution_count": null,
      "outputs": [
        {
          "output_type": "execute_result",
          "data": {
            "text/plain": [
              "          Predicted 0  Predicted 1  Predicted 2  Predicted 3  Predicted 4  \\\n",
              "Actual 0          524           13           28            6           37   \n",
              "Actual 1           14          464           12            2           30   \n",
              "Actual 2           12            6         1420           49           20   \n",
              "Actual 3            4            1           83          275            3   \n",
              "Actual 4           34           18           34            9         1215   \n",
              "Actual 5            1           25           18            1            5   \n",
              "\n",
              "          Predicted 5  \n",
              "Actual 0            0  \n",
              "Actual 1           18  \n",
              "Actual 2            7  \n",
              "Actual 3            0  \n",
              "Actual 4            2  \n",
              "Actual 5          110  "
            ],
            "text/html": [
              "\n",
              "  <div id=\"df-b5877365-6ff9-4d29-84d1-86e51c758da0\">\n",
              "    <div class=\"colab-df-container\">\n",
              "      <div>\n",
              "<style scoped>\n",
              "    .dataframe tbody tr th:only-of-type {\n",
              "        vertical-align: middle;\n",
              "    }\n",
              "\n",
              "    .dataframe tbody tr th {\n",
              "        vertical-align: top;\n",
              "    }\n",
              "\n",
              "    .dataframe thead th {\n",
              "        text-align: right;\n",
              "    }\n",
              "</style>\n",
              "<table border=\"1\" class=\"dataframe\">\n",
              "  <thead>\n",
              "    <tr style=\"text-align: right;\">\n",
              "      <th></th>\n",
              "      <th>Predicted 0</th>\n",
              "      <th>Predicted 1</th>\n",
              "      <th>Predicted 2</th>\n",
              "      <th>Predicted 3</th>\n",
              "      <th>Predicted 4</th>\n",
              "      <th>Predicted 5</th>\n",
              "    </tr>\n",
              "  </thead>\n",
              "  <tbody>\n",
              "    <tr>\n",
              "      <th>Actual 0</th>\n",
              "      <td>524</td>\n",
              "      <td>13</td>\n",
              "      <td>28</td>\n",
              "      <td>6</td>\n",
              "      <td>37</td>\n",
              "      <td>0</td>\n",
              "    </tr>\n",
              "    <tr>\n",
              "      <th>Actual 1</th>\n",
              "      <td>14</td>\n",
              "      <td>464</td>\n",
              "      <td>12</td>\n",
              "      <td>2</td>\n",
              "      <td>30</td>\n",
              "      <td>18</td>\n",
              "    </tr>\n",
              "    <tr>\n",
              "      <th>Actual 2</th>\n",
              "      <td>12</td>\n",
              "      <td>6</td>\n",
              "      <td>1420</td>\n",
              "      <td>49</td>\n",
              "      <td>20</td>\n",
              "      <td>7</td>\n",
              "    </tr>\n",
              "    <tr>\n",
              "      <th>Actual 3</th>\n",
              "      <td>4</td>\n",
              "      <td>1</td>\n",
              "      <td>83</td>\n",
              "      <td>275</td>\n",
              "      <td>3</td>\n",
              "      <td>0</td>\n",
              "    </tr>\n",
              "    <tr>\n",
              "      <th>Actual 4</th>\n",
              "      <td>34</td>\n",
              "      <td>18</td>\n",
              "      <td>34</td>\n",
              "      <td>9</td>\n",
              "      <td>1215</td>\n",
              "      <td>2</td>\n",
              "    </tr>\n",
              "    <tr>\n",
              "      <th>Actual 5</th>\n",
              "      <td>1</td>\n",
              "      <td>25</td>\n",
              "      <td>18</td>\n",
              "      <td>1</td>\n",
              "      <td>5</td>\n",
              "      <td>110</td>\n",
              "    </tr>\n",
              "  </tbody>\n",
              "</table>\n",
              "</div>\n",
              "      <button class=\"colab-df-convert\" onclick=\"convertToInteractive('df-b5877365-6ff9-4d29-84d1-86e51c758da0')\"\n",
              "              title=\"Convert this dataframe to an interactive table.\"\n",
              "              style=\"display:none;\">\n",
              "        \n",
              "  <svg xmlns=\"http://www.w3.org/2000/svg\" height=\"24px\"viewBox=\"0 0 24 24\"\n",
              "       width=\"24px\">\n",
              "    <path d=\"M0 0h24v24H0V0z\" fill=\"none\"/>\n",
              "    <path d=\"M18.56 5.44l.94 2.06.94-2.06 2.06-.94-2.06-.94-.94-2.06-.94 2.06-2.06.94zm-11 1L8.5 8.5l.94-2.06 2.06-.94-2.06-.94L8.5 2.5l-.94 2.06-2.06.94zm10 10l.94 2.06.94-2.06 2.06-.94-2.06-.94-.94-2.06-.94 2.06-2.06.94z\"/><path d=\"M17.41 7.96l-1.37-1.37c-.4-.4-.92-.59-1.43-.59-.52 0-1.04.2-1.43.59L10.3 9.45l-7.72 7.72c-.78.78-.78 2.05 0 2.83L4 21.41c.39.39.9.59 1.41.59.51 0 1.02-.2 1.41-.59l7.78-7.78 2.81-2.81c.8-.78.8-2.07 0-2.86zM5.41 20L4 18.59l7.72-7.72 1.47 1.35L5.41 20z\"/>\n",
              "  </svg>\n",
              "      </button>\n",
              "      \n",
              "  <style>\n",
              "    .colab-df-container {\n",
              "      display:flex;\n",
              "      flex-wrap:wrap;\n",
              "      gap: 12px;\n",
              "    }\n",
              "\n",
              "    .colab-df-convert {\n",
              "      background-color: #E8F0FE;\n",
              "      border: none;\n",
              "      border-radius: 50%;\n",
              "      cursor: pointer;\n",
              "      display: none;\n",
              "      fill: #1967D2;\n",
              "      height: 32px;\n",
              "      padding: 0 0 0 0;\n",
              "      width: 32px;\n",
              "    }\n",
              "\n",
              "    .colab-df-convert:hover {\n",
              "      background-color: #E2EBFA;\n",
              "      box-shadow: 0px 1px 2px rgba(60, 64, 67, 0.3), 0px 1px 3px 1px rgba(60, 64, 67, 0.15);\n",
              "      fill: #174EA6;\n",
              "    }\n",
              "\n",
              "    [theme=dark] .colab-df-convert {\n",
              "      background-color: #3B4455;\n",
              "      fill: #D2E3FC;\n",
              "    }\n",
              "\n",
              "    [theme=dark] .colab-df-convert:hover {\n",
              "      background-color: #434B5C;\n",
              "      box-shadow: 0px 1px 3px 1px rgba(0, 0, 0, 0.15);\n",
              "      filter: drop-shadow(0px 1px 2px rgba(0, 0, 0, 0.3));\n",
              "      fill: #FFFFFF;\n",
              "    }\n",
              "  </style>\n",
              "\n",
              "      <script>\n",
              "        const buttonEl =\n",
              "          document.querySelector('#df-b5877365-6ff9-4d29-84d1-86e51c758da0 button.colab-df-convert');\n",
              "        buttonEl.style.display =\n",
              "          google.colab.kernel.accessAllowed ? 'block' : 'none';\n",
              "\n",
              "        async function convertToInteractive(key) {\n",
              "          const element = document.querySelector('#df-b5877365-6ff9-4d29-84d1-86e51c758da0');\n",
              "          const dataTable =\n",
              "            await google.colab.kernel.invokeFunction('convertToInteractive',\n",
              "                                                     [key], {});\n",
              "          if (!dataTable) return;\n",
              "\n",
              "          const docLinkHtml = 'Like what you see? Visit the ' +\n",
              "            '<a target=\"_blank\" href=https://colab.research.google.com/notebooks/data_table.ipynb>data table notebook</a>'\n",
              "            + ' to learn more about interactive tables.';\n",
              "          element.innerHTML = '';\n",
              "          dataTable['output_type'] = 'display_data';\n",
              "          await google.colab.output.renderOutput(dataTable, element);\n",
              "          const docLink = document.createElement('div');\n",
              "          docLink.innerHTML = docLinkHtml;\n",
              "          element.appendChild(docLink);\n",
              "        }\n",
              "      </script>\n",
              "    </div>\n",
              "  </div>\n",
              "  "
            ]
          },
          "metadata": {},
          "execution_count": 46
        }
      ]
    },
    {
      "cell_type": "code",
      "source": [
        "import seaborn as sns"
      ],
      "metadata": {
        "id": "uLKyf4irjeF8"
      },
      "execution_count": null,
      "outputs": []
    },
    {
      "cell_type": "code",
      "source": [
        "def plot2(y_val,y_pred):\n",
        "  labels=unique_labels(y_val)\n",
        "  column=[f'Predicted {label}' for label in labels]\n",
        "  indices=[f'Actual {label}' for label in labels]\n",
        "  table=pd.DataFrame(confusion_matrix(y_val,y_pred),columns=column,index=indices)\n",
        "  return sns.heatmap(table, annot=True, fmt='d')"
      ],
      "metadata": {
        "id": "MTCT3NeDGFgL"
      },
      "execution_count": null,
      "outputs": []
    },
    {
      "cell_type": "code",
      "source": [
        "plot2(y_val,y_pred)"
      ],
      "metadata": {
        "colab": {
          "base_uri": "https://localhost:8080/",
          "height": 513
        },
        "id": "CuAj7B2-Ivza",
        "outputId": "e2791e24-486f-4f35-f2bb-381a2899df0f"
      },
      "execution_count": null,
      "outputs": [
        {
          "output_type": "execute_result",
          "data": {
            "text/plain": [
              "<Axes: >"
            ]
          },
          "metadata": {},
          "execution_count": 49
        },
        {
          "output_type": "display_data",
          "data": {
            "text/plain": [
              "<Figure size 640x480 with 2 Axes>"
            ],
            "image/png": "[encoded data removed]"
          },
          "metadata": {}
        }
      ]
    }
  ]
}